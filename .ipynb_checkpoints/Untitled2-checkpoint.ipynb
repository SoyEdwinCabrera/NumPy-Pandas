{
 "cells": [
  {
   "cell_type": "code",
   "execution_count": 1,
   "id": "d1465d6a-876a-4605-94db-9bb1e68c36d0",
   "metadata": {},
   "outputs": [
    {
     "name": "stdout",
     "output_type": "stream",
     "text": [
      "Hola Jupyter\n"
     ]
    }
   ],
   "source": [
    "print (\"Hola Jupyter\")"
   ]
  },
  {
   "cell_type": "code",
   "execution_count": null,
   "id": "fdc52d75-c86f-4b06-b2b9-7a42490608e3",
   "metadata": {},
   "outputs": [],
   "source": []
  }
 ],
 "metadata": {
  "kernelspec": {
   "display_name": "Python 3 (ipykernel)",
   "language": "python",
   "name": "python3"
  },
  "language_info": {
   "codemirror_mode": {
    "name": "ipython",
    "version": 3
   },
   "file_extension": ".py",
   "mimetype": "text/x-python",
   "name": "python",
   "nbconvert_exporter": "python",
   "pygments_lexer": "ipython3",
   "version": "3.12.7"
  }
 },
 "nbformat": 4,
 "nbformat_minor": 5
}
