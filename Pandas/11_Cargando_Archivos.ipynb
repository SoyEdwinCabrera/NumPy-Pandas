{
  "nbformat": 4,
  "nbformat_minor": 0,
  "metadata": {
    "colab": {
      "provenance": []
    },
    "kernelspec": {
      "name": "python3",
      "display_name": "Python 3"
    },
    "language_info": {
      "name": "python"
    }
  },
  "cells": [
    {
      "cell_type": "code",
      "source": [
        "import pandas as pd"
      ],
      "metadata": {
        "id": "IXzWWTFKPw03"
      },
      "execution_count": 44,
      "outputs": []
    },
    {
      "cell_type": "code",
      "source": [
        "df_books = pd.read_csv('/content/j.csv',sep=',',header=0, names=['Namesssss', 'Authorrrr', 'User Rating', 'Reviews', 'Price', 'Year', 'Genre'])"
      ],
      "metadata": {
        "id": "D2d-S3JmILlB"
      },
      "execution_count": 50,
      "outputs": []
    },
    {
      "cell_type": "code",
      "source": [
        "df_books.columns"
      ],
      "metadata": {
        "colab": {
          "base_uri": "https://localhost:8080/"
        },
        "id": "P1ZUAvTbP_WP",
        "outputId": "fd8b1b2a-8180-4114-b885-fbaf5a767a12"
      },
      "execution_count": 51,
      "outputs": [
        {
          "output_type": "execute_result",
          "data": {
            "text/plain": [
              "Index(['Namesssss', 'Authorrrr', 'User Rating', 'Reviews', 'Price', 'Year',\n",
              "       'Genre'],\n",
              "      dtype='object')"
            ]
          },
          "metadata": {},
          "execution_count": 51
        }
      ]
    },
    {
      "cell_type": "code",
      "source": [
        "pd.read_json('/content/hpcharactersdataraw.json',typ='Series')"
      ],
      "metadata": {
        "colab": {
          "base_uri": "https://localhost:8080/",
          "height": 475
        },
        "id": "1hcEHfFpQrjK",
        "outputId": "67cd8a41-b129-4e28-ea58-a7a5826c7f7b"
      },
      "execution_count": 54,
      "outputs": [
        {
          "output_type": "execute_result",
          "data": {
            "text/plain": [
              "0       {'Name': 'Mrs. Abbott', 'Link': 'https://www.h...\n",
              "1       {'Name': 'Hannah Abbott', 'Link': 'https://www...\n",
              "2       {'Name': 'Abel Treetops', 'Link': 'https://www...\n",
              "3       {'Name': 'Euan Abercrombie', 'Link': 'https://...\n",
              "4       {'Name': 'Aberforth Dumbledore', 'Link': 'http...\n",
              "                              ...                        \n",
              "1935    {'Name': 'Georgi Zdravko', 'Link': 'https://ww...\n",
              "1936    {'Name': 'Zograf', 'Link': 'https://www.hp-lex...\n",
              "1937    {'Name': 'Zonko', 'Link': 'https://www.hp-lexi...\n",
              "1938    {'Name': 'Valentina Vázquez', 'Link': 'https:/...\n",
              "1939    {'Name': 'Zygmunt Budge', 'Link': 'https://www...\n",
              "Length: 1940, dtype: object"
            ],
            "text/html": [
              "<div>\n",
              "<style scoped>\n",
              "    .dataframe tbody tr th:only-of-type {\n",
              "        vertical-align: middle;\n",
              "    }\n",
              "\n",
              "    .dataframe tbody tr th {\n",
              "        vertical-align: top;\n",
              "    }\n",
              "\n",
              "    .dataframe thead th {\n",
              "        text-align: right;\n",
              "    }\n",
              "</style>\n",
              "<table border=\"1\" class=\"dataframe\">\n",
              "  <thead>\n",
              "    <tr style=\"text-align: right;\">\n",
              "      <th></th>\n",
              "      <th>0</th>\n",
              "    </tr>\n",
              "  </thead>\n",
              "  <tbody>\n",
              "    <tr>\n",
              "      <th>0</th>\n",
              "      <td>{'Name': 'Mrs. Abbott', 'Link': 'https://www.h...</td>\n",
              "    </tr>\n",
              "    <tr>\n",
              "      <th>1</th>\n",
              "      <td>{'Name': 'Hannah Abbott', 'Link': 'https://www...</td>\n",
              "    </tr>\n",
              "    <tr>\n",
              "      <th>2</th>\n",
              "      <td>{'Name': 'Abel Treetops', 'Link': 'https://www...</td>\n",
              "    </tr>\n",
              "    <tr>\n",
              "      <th>3</th>\n",
              "      <td>{'Name': 'Euan Abercrombie', 'Link': 'https://...</td>\n",
              "    </tr>\n",
              "    <tr>\n",
              "      <th>4</th>\n",
              "      <td>{'Name': 'Aberforth Dumbledore', 'Link': 'http...</td>\n",
              "    </tr>\n",
              "    <tr>\n",
              "      <th>...</th>\n",
              "      <td>...</td>\n",
              "    </tr>\n",
              "    <tr>\n",
              "      <th>1935</th>\n",
              "      <td>{'Name': 'Georgi Zdravko', 'Link': 'https://ww...</td>\n",
              "    </tr>\n",
              "    <tr>\n",
              "      <th>1936</th>\n",
              "      <td>{'Name': 'Zograf', 'Link': 'https://www.hp-lex...</td>\n",
              "    </tr>\n",
              "    <tr>\n",
              "      <th>1937</th>\n",
              "      <td>{'Name': 'Zonko', 'Link': 'https://www.hp-lexi...</td>\n",
              "    </tr>\n",
              "    <tr>\n",
              "      <th>1938</th>\n",
              "      <td>{'Name': 'Valentina Vázquez', 'Link': 'https:/...</td>\n",
              "    </tr>\n",
              "    <tr>\n",
              "      <th>1939</th>\n",
              "      <td>{'Name': 'Zygmunt Budge', 'Link': 'https://www...</td>\n",
              "    </tr>\n",
              "  </tbody>\n",
              "</table>\n",
              "<p>1940 rows × 1 columns</p>\n",
              "</div><br><label><b>dtype:</b> object</label>"
            ]
          },
          "metadata": {},
          "execution_count": 54
        }
      ]
    },
    {
      "cell_type": "code",
      "source": [],
      "metadata": {
        "id": "Ux0S7LmQRZdr"
      },
      "execution_count": null,
      "outputs": []
    }
  ]
}